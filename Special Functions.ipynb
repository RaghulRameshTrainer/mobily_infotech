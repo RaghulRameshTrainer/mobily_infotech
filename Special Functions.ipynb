{
 "cells": [
  {
   "cell_type": "markdown",
   "id": "78f3c1b0",
   "metadata": {},
   "source": [
    "# lambda"
   ]
  },
  {
   "cell_type": "code",
   "execution_count": null,
   "id": "7f334bb3",
   "metadata": {},
   "outputs": [],
   "source": [
    "'''\n",
    "syntax:\n",
    "lambda input : expr\n",
    "'''"
   ]
  },
  {
   "cell_type": "code",
   "execution_count": 1,
   "id": "269569a1",
   "metadata": {},
   "outputs": [
    {
     "data": {
      "text/plain": [
       "110"
      ]
     },
     "execution_count": 1,
     "metadata": {},
     "output_type": "execute_result"
    }
   ],
   "source": [
    "(lambda x,y : x + y ) (50,60)"
   ]
  },
  {
   "cell_type": "code",
   "execution_count": 3,
   "id": "f3ba287a",
   "metadata": {},
   "outputs": [],
   "source": [
    "a=lambda x,y : x + y"
   ]
  },
  {
   "cell_type": "code",
   "execution_count": 4,
   "id": "8b1d3c72",
   "metadata": {},
   "outputs": [
    {
     "data": {
      "text/plain": [
       "6"
      ]
     },
     "execution_count": 4,
     "metadata": {},
     "output_type": "execute_result"
    }
   ],
   "source": [
    "a(1,5)"
   ]
  },
  {
   "cell_type": "code",
   "execution_count": 6,
   "id": "0b0ef523",
   "metadata": {},
   "outputs": [
    {
     "data": {
      "text/plain": [
       "50"
      ]
     },
     "execution_count": 6,
     "metadata": {},
     "output_type": "execute_result"
    }
   ],
   "source": [
    "a(10,40)"
   ]
  },
  {
   "cell_type": "code",
   "execution_count": 7,
   "id": "96316690",
   "metadata": {},
   "outputs": [],
   "source": [
    "# Find a big number from given 2 numbers\n",
    "\n",
    "fb=lambda x,y : x if x > y else y"
   ]
  },
  {
   "cell_type": "code",
   "execution_count": 8,
   "id": "38215c72",
   "metadata": {},
   "outputs": [
    {
     "data": {
      "text/plain": [
       "7"
      ]
     },
     "execution_count": 8,
     "metadata": {},
     "output_type": "execute_result"
    }
   ],
   "source": [
    "fb(5,7)"
   ]
  },
  {
   "cell_type": "code",
   "execution_count": 9,
   "id": "16223f22",
   "metadata": {},
   "outputs": [
    {
     "data": {
      "text/plain": [
       "44"
      ]
     },
     "execution_count": 9,
     "metadata": {},
     "output_type": "execute_result"
    }
   ],
   "source": [
    "fb(44,22)"
   ]
  },
  {
   "cell_type": "code",
   "execution_count": 10,
   "id": "cec60c95",
   "metadata": {},
   "outputs": [
    {
     "data": {
      "text/plain": [
       "204324"
      ]
     },
     "execution_count": 10,
     "metadata": {},
     "output_type": "execute_result"
    }
   ],
   "source": [
    "fb(204324,44552)"
   ]
  },
  {
   "cell_type": "code",
   "execution_count": 11,
   "id": "05897e7b",
   "metadata": {},
   "outputs": [],
   "source": [
    "# Find a big number from given 3 number\n",
    "\n",
    "fm=lambda x, y, z : max([x,y,z])"
   ]
  },
  {
   "cell_type": "code",
   "execution_count": 12,
   "id": "65d92f8c",
   "metadata": {},
   "outputs": [
    {
     "data": {
      "text/plain": [
       "33"
      ]
     },
     "execution_count": 12,
     "metadata": {},
     "output_type": "execute_result"
    }
   ],
   "source": [
    "fm(5,8,33)"
   ]
  },
  {
   "cell_type": "code",
   "execution_count": 13,
   "id": "4056fc23",
   "metadata": {},
   "outputs": [
    {
     "data": {
      "text/plain": [
       "355"
      ]
     },
     "execution_count": 13,
     "metadata": {},
     "output_type": "execute_result"
    }
   ],
   "source": [
    "fm(355,22,144)"
   ]
  },
  {
   "cell_type": "code",
   "execution_count": 14,
   "id": "784deea1",
   "metadata": {},
   "outputs": [
    {
     "data": {
      "text/plain": [
       "77"
      ]
     },
     "execution_count": 14,
     "metadata": {},
     "output_type": "execute_result"
    }
   ],
   "source": [
    "fm(66,77,33)"
   ]
  },
  {
   "cell_type": "code",
   "execution_count": 15,
   "id": "7b22024c",
   "metadata": {},
   "outputs": [],
   "source": [
    "findbig=lambda x,y,z : x if x>y and x>z else y if y>x and y>z else z"
   ]
  },
  {
   "cell_type": "code",
   "execution_count": 16,
   "id": "e6018cc7",
   "metadata": {},
   "outputs": [
    {
     "data": {
      "text/plain": [
       "222"
      ]
     },
     "execution_count": 16,
     "metadata": {},
     "output_type": "execute_result"
    }
   ],
   "source": [
    "findbig(11,44,222)"
   ]
  },
  {
   "cell_type": "code",
   "execution_count": 18,
   "id": "4ff4d05f",
   "metadata": {},
   "outputs": [
    {
     "data": {
      "text/plain": [
       "111199"
      ]
     },
     "execution_count": 18,
     "metadata": {},
     "output_type": "execute_result"
    }
   ],
   "source": [
    "findbig(111199,456,24325)"
   ]
  },
  {
   "cell_type": "code",
   "execution_count": 19,
   "id": "dc620602",
   "metadata": {},
   "outputs": [
    {
     "data": {
      "text/plain": [
       "4999956"
      ]
     },
     "execution_count": 19,
     "metadata": {},
     "output_type": "execute_result"
    }
   ],
   "source": [
    "findbig(111199,4999956,24325)"
   ]
  },
  {
   "cell_type": "code",
   "execution_count": null,
   "id": "283f3f08",
   "metadata": {},
   "outputs": [],
   "source": [
    "#map, filter, reduce , file operations ( csv)"
   ]
  }
 ],
 "metadata": {
  "kernelspec": {
   "display_name": "Python 3 (ipykernel)",
   "language": "python",
   "name": "python3"
  },
  "language_info": {
   "codemirror_mode": {
    "name": "ipython",
    "version": 3
   },
   "file_extension": ".py",
   "mimetype": "text/x-python",
   "name": "python",
   "nbconvert_exporter": "python",
   "pygments_lexer": "ipython3",
   "version": "3.8.10"
  }
 },
 "nbformat": 4,
 "nbformat_minor": 5
}
