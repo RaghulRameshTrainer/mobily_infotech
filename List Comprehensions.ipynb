{
 "cells": [
  {
   "cell_type": "markdown",
   "id": "1b959f16",
   "metadata": {},
   "source": [
    "# LIST COMPREHENSIONS"
   ]
  },
  {
   "cell_type": "code",
   "execution_count": null,
   "id": "6eec54d2",
   "metadata": {},
   "outputs": [],
   "source": [
    "syntax:\n",
    "    \n",
    "    [ expr for var in collections/sequence]\n",
    "    [ expr for var in collections/sequence if cond]\n",
    "    [ expr for var in collections/sequence if cond1 and/or cond2]\n",
    "    [ expr for var in collections/sequence for var2 in c2/s2]"
   ]
  },
  {
   "cell_type": "code",
   "execution_count": 1,
   "id": "d58c1d65",
   "metadata": {},
   "outputs": [
    {
     "data": {
      "text/plain": [
       "[113.04, 254.34, 3419.46, 379.94, 1519.76, 9498.5, 5805.860000000001, 1519.76]"
      ]
     },
     "execution_count": 1,
     "metadata": {},
     "output_type": "execute_result"
    }
   ],
   "source": [
    "nums=[6,9,33,11,22,55,43,22]\n",
    "\n",
    "[ 3.14*r**2 for r in nums]\n"
   ]
  },
  {
   "cell_type": "code",
   "execution_count": 2,
   "id": "7191737a",
   "metadata": {},
   "outputs": [
    {
     "data": {
      "text/plain": [
       "[1, 4, 9, 16, 25, 36, 49, 64, 81, 100]"
      ]
     },
     "execution_count": 2,
     "metadata": {},
     "output_type": "execute_result"
    }
   ],
   "source": [
    "[ x**2 for x in range(1,11)]"
   ]
  },
  {
   "cell_type": "code",
   "execution_count": 3,
   "id": "fe213ce1",
   "metadata": {},
   "outputs": [
    {
     "data": {
      "text/plain": [
       "[2, 4, 6, 8, 10]"
      ]
     },
     "execution_count": 3,
     "metadata": {},
     "output_type": "execute_result"
    }
   ],
   "source": [
    "[ x for x in range(1,11) if x%2==0]"
   ]
  },
  {
   "cell_type": "code",
   "execution_count": 4,
   "id": "c403b040",
   "metadata": {},
   "outputs": [
    {
     "data": {
      "text/plain": [
       "[1, 3, 5, 7, 9]"
      ]
     },
     "execution_count": 4,
     "metadata": {},
     "output_type": "execute_result"
    }
   ],
   "source": [
    "[ x for x in range(1,11) if x%2==1]"
   ]
  },
  {
   "cell_type": "code",
   "execution_count": 6,
   "id": "93931b74",
   "metadata": {},
   "outputs": [
    {
     "name": "stdout",
     "output_type": "stream",
     "text": [
      "[35, 70, 105, 140, 175, 210, 245, 280, 315, 350, 385, 420, 455, 490, 525, 560, 595, 630, 665, 700, 735, 770, 805, 840, 875, 910, 945, 980]\n"
     ]
    }
   ],
   "source": [
    "# 5,7 (1-1000)\n",
    "\n",
    "print([ x for x in range(1,1001) if x%5==0 and x%7==0])"
   ]
  },
  {
   "cell_type": "code",
   "execution_count": 7,
   "id": "badaea79",
   "metadata": {
    "collapsed": true
   },
   "outputs": [
    {
     "data": {
      "text/plain": [
       "[(1, 6),\n",
       " (1, 7),\n",
       " (1, 8),\n",
       " (1, 9),\n",
       " (1, 10),\n",
       " (2, 6),\n",
       " (2, 7),\n",
       " (2, 8),\n",
       " (2, 9),\n",
       " (2, 10),\n",
       " (3, 6),\n",
       " (3, 7),\n",
       " (3, 8),\n",
       " (3, 9),\n",
       " (3, 10),\n",
       " (4, 6),\n",
       " (4, 7),\n",
       " (4, 8),\n",
       " (4, 9),\n",
       " (4, 10),\n",
       " (5, 6),\n",
       " (5, 7),\n",
       " (5, 8),\n",
       " (5, 9),\n",
       " (5, 10)]"
      ]
     },
     "execution_count": 7,
     "metadata": {},
     "output_type": "execute_result"
    }
   ],
   "source": [
    "x=[1,2,3,4,5]\n",
    "y=[6,7,8,9,10]\n",
    "\n",
    "[(i,j) for i in x for j in y]"
   ]
  },
  {
   "cell_type": "code",
   "execution_count": null,
   "id": "420a2b23",
   "metadata": {},
   "outputs": [],
   "source": [
    "[(i,j) for i,j in zip(x,y) ]"
   ]
  },
  {
   "cell_type": "code",
   "execution_count": null,
   "id": "0ef758db",
   "metadata": {},
   "outputs": [],
   "source": []
  }
 ],
 "metadata": {
  "kernelspec": {
   "display_name": "Python 3 (ipykernel)",
   "language": "python",
   "name": "python3"
  },
  "language_info": {
   "codemirror_mode": {
    "name": "ipython",
    "version": 3
   },
   "file_extension": ".py",
   "mimetype": "text/x-python",
   "name": "python",
   "nbconvert_exporter": "python",
   "pygments_lexer": "ipython3",
   "version": "3.8.10"
  }
 },
 "nbformat": 4,
 "nbformat_minor": 5
}
