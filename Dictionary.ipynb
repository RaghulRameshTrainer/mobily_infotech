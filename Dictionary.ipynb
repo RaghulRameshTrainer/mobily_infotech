{
 "cells": [
  {
   "cell_type": "markdown",
   "id": "e1970878",
   "metadata": {},
   "source": [
    "# DICTIONARY"
   ]
  },
  {
   "cell_type": "code",
   "execution_count": null,
   "id": "f9d18353",
   "metadata": {},
   "outputs": [],
   "source": [
    "#key value pairs of elements\n",
    "#key cannot be duplicated"
   ]
  },
  {
   "cell_type": "code",
   "execution_count": 1,
   "id": "411340f3",
   "metadata": {},
   "outputs": [],
   "source": [
    "mydict={}"
   ]
  },
  {
   "cell_type": "code",
   "execution_count": 2,
   "id": "488b8727",
   "metadata": {},
   "outputs": [
    {
     "data": {
      "text/plain": [
       "dict"
      ]
     },
     "execution_count": 2,
     "metadata": {},
     "output_type": "execute_result"
    }
   ],
   "source": [
    "type(mydict)"
   ]
  },
  {
   "cell_type": "code",
   "execution_count": 3,
   "id": "6269388f",
   "metadata": {},
   "outputs": [],
   "source": [
    "mydict2=dict()"
   ]
  },
  {
   "cell_type": "code",
   "execution_count": 4,
   "id": "cc556079",
   "metadata": {},
   "outputs": [
    {
     "data": {
      "text/plain": [
       "dict"
      ]
     },
     "execution_count": 4,
     "metadata": {},
     "output_type": "execute_result"
    }
   ],
   "source": [
    "type(mydict2)"
   ]
  },
  {
   "cell_type": "code",
   "execution_count": 5,
   "id": "fe3a5838",
   "metadata": {},
   "outputs": [],
   "source": [
    "info={'name':'Raghul Ramesh',\n",
    "     'city':'Chennai',\n",
    "     'tech':'Python',\n",
    "     'exp':17\n",
    "     }"
   ]
  },
  {
   "cell_type": "code",
   "execution_count": 6,
   "id": "fd173463",
   "metadata": {},
   "outputs": [
    {
     "data": {
      "text/plain": [
       "{'name': 'Raghul Ramesh', 'city': 'Chennai', 'tech': 'Python', 'exp': 17}"
      ]
     },
     "execution_count": 6,
     "metadata": {},
     "output_type": "execute_result"
    }
   ],
   "source": [
    "info"
   ]
  },
  {
   "cell_type": "code",
   "execution_count": 7,
   "id": "e3e8cb0a",
   "metadata": {},
   "outputs": [
    {
     "data": {
      "text/plain": [
       "'Raghul Ramesh'"
      ]
     },
     "execution_count": 7,
     "metadata": {},
     "output_type": "execute_result"
    }
   ],
   "source": [
    "info['name']"
   ]
  },
  {
   "cell_type": "code",
   "execution_count": 8,
   "id": "0e2fb3ab",
   "metadata": {},
   "outputs": [
    {
     "data": {
      "text/plain": [
       "'Chennai'"
      ]
     },
     "execution_count": 8,
     "metadata": {},
     "output_type": "execute_result"
    }
   ],
   "source": [
    "info['city']"
   ]
  },
  {
   "cell_type": "markdown",
   "id": "ae31eac4",
   "metadata": {},
   "source": [
    "# ADD NEW KEY VALUE PAIRS"
   ]
  },
  {
   "cell_type": "code",
   "execution_count": 9,
   "id": "b574ba92",
   "metadata": {},
   "outputs": [],
   "source": [
    "info['manager']='Levin Lenus'"
   ]
  },
  {
   "cell_type": "code",
   "execution_count": 10,
   "id": "f4024f46",
   "metadata": {},
   "outputs": [
    {
     "data": {
      "text/plain": [
       "{'name': 'Raghul Ramesh',\n",
       " 'city': 'Chennai',\n",
       " 'tech': 'Python',\n",
       " 'exp': 17,\n",
       " 'manager': 'Levin Lenus'}"
      ]
     },
     "execution_count": 10,
     "metadata": {},
     "output_type": "execute_result"
    }
   ],
   "source": [
    "info"
   ]
  },
  {
   "cell_type": "code",
   "execution_count": 11,
   "id": "c7d79b11",
   "metadata": {},
   "outputs": [],
   "source": [
    "info['salary']=1000000"
   ]
  },
  {
   "cell_type": "code",
   "execution_count": 12,
   "id": "c3d9b9f9",
   "metadata": {},
   "outputs": [
    {
     "data": {
      "text/plain": [
       "{'name': 'Raghul Ramesh',\n",
       " 'city': 'Chennai',\n",
       " 'tech': 'Python',\n",
       " 'exp': 17,\n",
       " 'manager': 'Levin Lenus',\n",
       " 'salary': 1000000}"
      ]
     },
     "execution_count": 12,
     "metadata": {},
     "output_type": "execute_result"
    }
   ],
   "source": [
    "info"
   ]
  },
  {
   "cell_type": "code",
   "execution_count": 13,
   "id": "213d373d",
   "metadata": {},
   "outputs": [],
   "source": [
    "info['city']='Bangalore'"
   ]
  },
  {
   "cell_type": "code",
   "execution_count": 14,
   "id": "7287255c",
   "metadata": {},
   "outputs": [
    {
     "data": {
      "text/plain": [
       "{'name': 'Raghul Ramesh',\n",
       " 'city': 'Bangalore',\n",
       " 'tech': 'Python',\n",
       " 'exp': 17,\n",
       " 'manager': 'Levin Lenus',\n",
       " 'salary': 1000000}"
      ]
     },
     "execution_count": 14,
     "metadata": {},
     "output_type": "execute_result"
    }
   ],
   "source": [
    "info"
   ]
  },
  {
   "cell_type": "code",
   "execution_count": 15,
   "id": "66aae797",
   "metadata": {},
   "outputs": [],
   "source": [
    "info.update({'city':'Hyderabad','age':38,'BusinessUnit':'E&R','manager':'Venkatesh Madhavan'})"
   ]
  },
  {
   "cell_type": "code",
   "execution_count": 16,
   "id": "7770413a",
   "metadata": {},
   "outputs": [
    {
     "data": {
      "text/plain": [
       "{'name': 'Raghul Ramesh',\n",
       " 'city': 'Hyderabad',\n",
       " 'tech': 'Python',\n",
       " 'exp': 17,\n",
       " 'manager': 'Venkatesh Madhavan',\n",
       " 'salary': 1000000,\n",
       " 'age': 38,\n",
       " 'BusinessUnit': 'E&R'}"
      ]
     },
     "execution_count": 16,
     "metadata": {},
     "output_type": "execute_result"
    }
   ],
   "source": [
    "info"
   ]
  },
  {
   "cell_type": "markdown",
   "id": "aadb4e5d",
   "metadata": {},
   "source": [
    "# POP and POPITEM"
   ]
  },
  {
   "cell_type": "code",
   "execution_count": 18,
   "id": "a9045e72",
   "metadata": {},
   "outputs": [
    {
     "data": {
      "text/plain": [
       "1000000"
      ]
     },
     "execution_count": 18,
     "metadata": {},
     "output_type": "execute_result"
    }
   ],
   "source": [
    "info.pop('salary')"
   ]
  },
  {
   "cell_type": "code",
   "execution_count": 19,
   "id": "474b3c7e",
   "metadata": {},
   "outputs": [
    {
     "data": {
      "text/plain": [
       "{'name': 'Raghul Ramesh',\n",
       " 'city': 'Hyderabad',\n",
       " 'tech': 'Python',\n",
       " 'exp': 17,\n",
       " 'manager': 'Venkatesh Madhavan',\n",
       " 'age': 38,\n",
       " 'BusinessUnit': 'E&R'}"
      ]
     },
     "execution_count": 19,
     "metadata": {},
     "output_type": "execute_result"
    }
   ],
   "source": [
    "info"
   ]
  },
  {
   "cell_type": "code",
   "execution_count": 20,
   "id": "714c1843",
   "metadata": {},
   "outputs": [
    {
     "data": {
      "text/plain": [
       "17"
      ]
     },
     "execution_count": 20,
     "metadata": {},
     "output_type": "execute_result"
    }
   ],
   "source": [
    "info.pop('exp')"
   ]
  },
  {
   "cell_type": "code",
   "execution_count": 21,
   "id": "9c383c47",
   "metadata": {},
   "outputs": [
    {
     "data": {
      "text/plain": [
       "{'name': 'Raghul Ramesh',\n",
       " 'city': 'Hyderabad',\n",
       " 'tech': 'Python',\n",
       " 'manager': 'Venkatesh Madhavan',\n",
       " 'age': 38,\n",
       " 'BusinessUnit': 'E&R'}"
      ]
     },
     "execution_count": 21,
     "metadata": {},
     "output_type": "execute_result"
    }
   ],
   "source": [
    "info"
   ]
  },
  {
   "cell_type": "code",
   "execution_count": 22,
   "id": "8524c095",
   "metadata": {},
   "outputs": [
    {
     "data": {
      "text/plain": [
       "('BusinessUnit', 'E&R')"
      ]
     },
     "execution_count": 22,
     "metadata": {},
     "output_type": "execute_result"
    }
   ],
   "source": [
    "info.popitem()"
   ]
  },
  {
   "cell_type": "code",
   "execution_count": 23,
   "id": "66bb2888",
   "metadata": {},
   "outputs": [
    {
     "data": {
      "text/plain": [
       "{'name': 'Raghul Ramesh',\n",
       " 'city': 'Hyderabad',\n",
       " 'tech': 'Python',\n",
       " 'manager': 'Venkatesh Madhavan',\n",
       " 'age': 38}"
      ]
     },
     "execution_count": 23,
     "metadata": {},
     "output_type": "execute_result"
    }
   ],
   "source": [
    "info"
   ]
  },
  {
   "cell_type": "code",
   "execution_count": 24,
   "id": "9de8a5b6",
   "metadata": {},
   "outputs": [
    {
     "data": {
      "text/plain": [
       "('age', 38)"
      ]
     },
     "execution_count": 24,
     "metadata": {},
     "output_type": "execute_result"
    }
   ],
   "source": [
    "info.popitem()"
   ]
  },
  {
   "cell_type": "code",
   "execution_count": 25,
   "id": "6dc1fae5",
   "metadata": {},
   "outputs": [
    {
     "data": {
      "text/plain": [
       "{'name': 'Raghul Ramesh',\n",
       " 'city': 'Hyderabad',\n",
       " 'tech': 'Python',\n",
       " 'manager': 'Venkatesh Madhavan'}"
      ]
     },
     "execution_count": 25,
     "metadata": {},
     "output_type": "execute_result"
    }
   ],
   "source": [
    "info"
   ]
  },
  {
   "cell_type": "code",
   "execution_count": 26,
   "id": "43361fd9",
   "metadata": {},
   "outputs": [
    {
     "name": "stdout",
     "output_type": "stream",
     "text": [
      "['__class__', '__contains__', '__delattr__', '__delitem__', '__dir__', '__doc__', '__eq__', '__format__', '__ge__', '__getattribute__', '__getitem__', '__gt__', '__hash__', '__init__', '__init_subclass__', '__iter__', '__le__', '__len__', '__lt__', '__ne__', '__new__', '__reduce__', '__reduce_ex__', '__repr__', '__reversed__', '__setattr__', '__setitem__', '__sizeof__', '__str__', '__subclasshook__', 'clear', 'copy', 'fromkeys', 'get', 'items', 'keys', 'pop', 'popitem', 'setdefault', 'update', 'values']\n"
     ]
    }
   ],
   "source": [
    "print(dir(info))"
   ]
  },
  {
   "cell_type": "markdown",
   "id": "eeba2c16",
   "metadata": {},
   "source": [
    "# get and setdefault"
   ]
  },
  {
   "cell_type": "code",
   "execution_count": 27,
   "id": "ee1a07da",
   "metadata": {},
   "outputs": [
    {
     "data": {
      "text/plain": [
       "{'name': 'Raghul Ramesh',\n",
       " 'city': 'Hyderabad',\n",
       " 'tech': 'Python',\n",
       " 'manager': 'Venkatesh Madhavan'}"
      ]
     },
     "execution_count": 27,
     "metadata": {},
     "output_type": "execute_result"
    }
   ],
   "source": [
    "info"
   ]
  },
  {
   "cell_type": "code",
   "execution_count": 28,
   "id": "524ccce8",
   "metadata": {},
   "outputs": [
    {
     "ename": "KeyError",
     "evalue": "'exp'",
     "output_type": "error",
     "traceback": [
      "\u001b[1;31m---------------------------------------------------------------------------\u001b[0m",
      "\u001b[1;31mKeyError\u001b[0m                                  Traceback (most recent call last)",
      "Input \u001b[1;32mIn [28]\u001b[0m, in \u001b[0;36m<cell line: 1>\u001b[1;34m()\u001b[0m\n\u001b[1;32m----> 1\u001b[0m \u001b[43minfo\u001b[49m\u001b[43m[\u001b[49m\u001b[38;5;124;43m'\u001b[39;49m\u001b[38;5;124;43mexp\u001b[39;49m\u001b[38;5;124;43m'\u001b[39;49m\u001b[43m]\u001b[49m\n",
      "\u001b[1;31mKeyError\u001b[0m: 'exp'"
     ]
    }
   ],
   "source": [
    "info['exp']"
   ]
  },
  {
   "cell_type": "code",
   "execution_count": 34,
   "id": "91108105",
   "metadata": {},
   "outputs": [
    {
     "data": {
      "text/plain": [
       "'Not Available'"
      ]
     },
     "execution_count": 34,
     "metadata": {},
     "output_type": "execute_result"
    }
   ],
   "source": [
    "info.get('exp','Not Available')"
   ]
  },
  {
   "cell_type": "code",
   "execution_count": 35,
   "id": "d5188e95",
   "metadata": {},
   "outputs": [
    {
     "data": {
      "text/plain": [
       "{'name': 'Raghul Ramesh',\n",
       " 'city': 'Hyderabad',\n",
       " 'tech': 'Python',\n",
       " 'manager': 'Venkatesh Madhavan'}"
      ]
     },
     "execution_count": 35,
     "metadata": {},
     "output_type": "execute_result"
    }
   ],
   "source": [
    "info"
   ]
  },
  {
   "cell_type": "code",
   "execution_count": 37,
   "id": "43c01c6d",
   "metadata": {},
   "outputs": [
    {
     "data": {
      "text/plain": [
       "'Raghul Ramesh'"
      ]
     },
     "execution_count": 37,
     "metadata": {},
     "output_type": "execute_result"
    }
   ],
   "source": [
    "info.setdefault('name')"
   ]
  },
  {
   "cell_type": "code",
   "execution_count": 43,
   "id": "7cfe342a",
   "metadata": {},
   "outputs": [
    {
     "data": {
      "text/plain": [
       "1000000"
      ]
     },
     "execution_count": 43,
     "metadata": {},
     "output_type": "execute_result"
    }
   ],
   "source": [
    "info.setdefault('salary',1000000)"
   ]
  },
  {
   "cell_type": "code",
   "execution_count": 44,
   "id": "56389db8",
   "metadata": {},
   "outputs": [
    {
     "data": {
      "text/plain": [
       "{'name': 'Raghul Ramesh',\n",
       " 'city': 'Hyderabad',\n",
       " 'tech': 'Python',\n",
       " 'manager': 'Venkatesh Madhavan',\n",
       " 'salary': 1000000}"
      ]
     },
     "execution_count": 44,
     "metadata": {},
     "output_type": "execute_result"
    }
   ],
   "source": [
    "info"
   ]
  },
  {
   "cell_type": "markdown",
   "id": "ab261080",
   "metadata": {},
   "source": [
    "# keys, values, items"
   ]
  },
  {
   "cell_type": "code",
   "execution_count": 46,
   "id": "022078f1",
   "metadata": {},
   "outputs": [
    {
     "data": {
      "text/plain": [
       "dict_keys(['name', 'city', 'tech', 'manager', 'salary'])"
      ]
     },
     "execution_count": 46,
     "metadata": {},
     "output_type": "execute_result"
    }
   ],
   "source": [
    "info.keys()"
   ]
  },
  {
   "cell_type": "code",
   "execution_count": 47,
   "id": "1cde77f3",
   "metadata": {},
   "outputs": [
    {
     "data": {
      "text/plain": [
       "dict_values(['Raghul Ramesh', 'Hyderabad', 'Python', 'Venkatesh Madhavan', 1000000])"
      ]
     },
     "execution_count": 47,
     "metadata": {},
     "output_type": "execute_result"
    }
   ],
   "source": [
    "info.values()"
   ]
  },
  {
   "cell_type": "code",
   "execution_count": 48,
   "id": "df6989a3",
   "metadata": {},
   "outputs": [
    {
     "data": {
      "text/plain": [
       "dict_items([('name', 'Raghul Ramesh'), ('city', 'Hyderabad'), ('tech', 'Python'), ('manager', 'Venkatesh Madhavan'), ('salary', 1000000)])"
      ]
     },
     "execution_count": 48,
     "metadata": {},
     "output_type": "execute_result"
    }
   ],
   "source": [
    "info.items()"
   ]
  },
  {
   "cell_type": "code",
   "execution_count": 49,
   "id": "2449456a",
   "metadata": {},
   "outputs": [
    {
     "data": {
      "text/plain": [
       "dict_keys(['name', 'city', 'tech', 'manager', 'salary'])"
      ]
     },
     "execution_count": 49,
     "metadata": {},
     "output_type": "execute_result"
    }
   ],
   "source": [
    "info.keys()"
   ]
  },
  {
   "cell_type": "code",
   "execution_count": 52,
   "id": "924c115b",
   "metadata": {},
   "outputs": [
    {
     "name": "stdout",
     "output_type": "stream",
     "text": [
      "name ===> Raghul Ramesh\n",
      "city ===> Hyderabad\n",
      "tech ===> Python\n",
      "manager ===> Venkatesh Madhavan\n",
      "salary ===> 1000000\n"
     ]
    }
   ],
   "source": [
    "for k in info.keys():\n",
    "    print(k + \" ===> \" + str(info[k]))"
   ]
  },
  {
   "cell_type": "code",
   "execution_count": 54,
   "id": "dba37944",
   "metadata": {},
   "outputs": [
    {
     "name": "stdout",
     "output_type": "stream",
     "text": [
      "name ---> Raghul Ramesh\n",
      "city ---> Hyderabad\n",
      "tech ---> Python\n",
      "manager ---> Venkatesh Madhavan\n",
      "salary ---> 1000000\n"
     ]
    }
   ],
   "source": [
    "for k,v in info.items():\n",
    "    print(k +' ---> '+ str(v))"
   ]
  },
  {
   "cell_type": "markdown",
   "id": "89b5d341",
   "metadata": {},
   "source": [
    "# fromkeys"
   ]
  },
  {
   "cell_type": "code",
   "execution_count": 55,
   "id": "6acaf8fd",
   "metadata": {},
   "outputs": [],
   "source": [
    "info=['name','city','age','gender','fathername','tech']"
   ]
  },
  {
   "cell_type": "code",
   "execution_count": 62,
   "id": "27de687b",
   "metadata": {},
   "outputs": [],
   "source": [
    "emp1=dict.fromkeys(info,'TBD')"
   ]
  },
  {
   "cell_type": "code",
   "execution_count": 63,
   "id": "ee2b2f6e",
   "metadata": {},
   "outputs": [
    {
     "data": {
      "text/plain": [
       "{'name': 'TBD',\n",
       " 'city': 'TBD',\n",
       " 'age': 'TBD',\n",
       " 'gender': 'TBD',\n",
       " 'fathername': 'TBD',\n",
       " 'tech': 'TBD'}"
      ]
     },
     "execution_count": 63,
     "metadata": {},
     "output_type": "execute_result"
    }
   ],
   "source": [
    "emp1"
   ]
  },
  {
   "cell_type": "code",
   "execution_count": null,
   "id": "83c17df4",
   "metadata": {},
   "outputs": [],
   "source": []
  }
 ],
 "metadata": {
  "kernelspec": {
   "display_name": "Python 3 (ipykernel)",
   "language": "python",
   "name": "python3"
  },
  "language_info": {
   "codemirror_mode": {
    "name": "ipython",
    "version": 3
   },
   "file_extension": ".py",
   "mimetype": "text/x-python",
   "name": "python",
   "nbconvert_exporter": "python",
   "pygments_lexer": "ipython3",
   "version": "3.8.10"
  }
 },
 "nbformat": 4,
 "nbformat_minor": 5
}
