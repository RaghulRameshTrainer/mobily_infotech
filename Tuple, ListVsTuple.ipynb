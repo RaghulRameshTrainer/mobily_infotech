{
 "cells": [
  {
   "cell_type": "markdown",
   "id": "8519edcd",
   "metadata": {},
   "source": [
    "# TUPLE"
   ]
  },
  {
   "cell_type": "code",
   "execution_count": 1,
   "id": "2710969f",
   "metadata": {},
   "outputs": [],
   "source": [
    "t1=()"
   ]
  },
  {
   "cell_type": "code",
   "execution_count": 2,
   "id": "41682b1f",
   "metadata": {},
   "outputs": [
    {
     "data": {
      "text/plain": [
       "tuple"
      ]
     },
     "execution_count": 2,
     "metadata": {},
     "output_type": "execute_result"
    }
   ],
   "source": [
    "type(t1)"
   ]
  },
  {
   "cell_type": "code",
   "execution_count": 3,
   "id": "da710dd6",
   "metadata": {},
   "outputs": [],
   "source": [
    "t2=tuple()"
   ]
  },
  {
   "cell_type": "code",
   "execution_count": 4,
   "id": "7669a686",
   "metadata": {},
   "outputs": [
    {
     "data": {
      "text/plain": [
       "tuple"
      ]
     },
     "execution_count": 4,
     "metadata": {},
     "output_type": "execute_result"
    }
   ],
   "source": [
    "type(t2)"
   ]
  },
  {
   "cell_type": "code",
   "execution_count": 6,
   "id": "f3698752",
   "metadata": {},
   "outputs": [],
   "source": [
    "details=('India',34,'Delhi',135, 85500.50,True)"
   ]
  },
  {
   "cell_type": "code",
   "execution_count": 7,
   "id": "77112fd9",
   "metadata": {},
   "outputs": [
    {
     "data": {
      "text/plain": [
       "tuple"
      ]
     },
     "execution_count": 7,
     "metadata": {},
     "output_type": "execute_result"
    }
   ],
   "source": [
    "type(details)"
   ]
  },
  {
   "cell_type": "code",
   "execution_count": 8,
   "id": "43df0421",
   "metadata": {},
   "outputs": [
    {
     "data": {
      "text/plain": [
       "6"
      ]
     },
     "execution_count": 8,
     "metadata": {},
     "output_type": "execute_result"
    }
   ],
   "source": [
    "len(details)"
   ]
  },
  {
   "cell_type": "code",
   "execution_count": 10,
   "id": "f850a880",
   "metadata": {},
   "outputs": [],
   "source": [
    "nums=(3,5,2,6,88,100,44,66)"
   ]
  },
  {
   "cell_type": "code",
   "execution_count": 11,
   "id": "9bafa4ec",
   "metadata": {},
   "outputs": [
    {
     "data": {
      "text/plain": [
       "8"
      ]
     },
     "execution_count": 11,
     "metadata": {},
     "output_type": "execute_result"
    }
   ],
   "source": [
    "len(nums)"
   ]
  },
  {
   "cell_type": "code",
   "execution_count": 12,
   "id": "02d3c7f6",
   "metadata": {},
   "outputs": [
    {
     "data": {
      "text/plain": [
       "2"
      ]
     },
     "execution_count": 12,
     "metadata": {},
     "output_type": "execute_result"
    }
   ],
   "source": [
    "min(nums)"
   ]
  },
  {
   "cell_type": "code",
   "execution_count": 13,
   "id": "d98f1f96",
   "metadata": {},
   "outputs": [
    {
     "data": {
      "text/plain": [
       "100"
      ]
     },
     "execution_count": 13,
     "metadata": {},
     "output_type": "execute_result"
    }
   ],
   "source": [
    "max(nums)"
   ]
  },
  {
   "cell_type": "code",
   "execution_count": 14,
   "id": "46d0ddf4",
   "metadata": {},
   "outputs": [
    {
     "data": {
      "text/plain": [
       "314"
      ]
     },
     "execution_count": 14,
     "metadata": {},
     "output_type": "execute_result"
    }
   ],
   "source": [
    "sum(nums)"
   ]
  },
  {
   "cell_type": "code",
   "execution_count": 15,
   "id": "bc26126d",
   "metadata": {},
   "outputs": [],
   "source": [
    "x=[10]"
   ]
  },
  {
   "cell_type": "code",
   "execution_count": 16,
   "id": "633c0809",
   "metadata": {},
   "outputs": [
    {
     "data": {
      "text/plain": [
       "list"
      ]
     },
     "execution_count": 16,
     "metadata": {},
     "output_type": "execute_result"
    }
   ],
   "source": [
    "type(x)"
   ]
  },
  {
   "cell_type": "code",
   "execution_count": 17,
   "id": "82707156",
   "metadata": {},
   "outputs": [],
   "source": [
    "y=(10)"
   ]
  },
  {
   "cell_type": "code",
   "execution_count": 18,
   "id": "dbeec652",
   "metadata": {},
   "outputs": [
    {
     "data": {
      "text/plain": [
       "int"
      ]
     },
     "execution_count": 18,
     "metadata": {},
     "output_type": "execute_result"
    }
   ],
   "source": [
    "type(y)"
   ]
  },
  {
   "cell_type": "code",
   "execution_count": 19,
   "id": "3c5331af",
   "metadata": {},
   "outputs": [],
   "source": [
    "z=('Chennai')"
   ]
  },
  {
   "cell_type": "code",
   "execution_count": 20,
   "id": "561afa5a",
   "metadata": {},
   "outputs": [
    {
     "data": {
      "text/plain": [
       "str"
      ]
     },
     "execution_count": 20,
     "metadata": {},
     "output_type": "execute_result"
    }
   ],
   "source": [
    "type(z)"
   ]
  },
  {
   "cell_type": "code",
   "execution_count": 21,
   "id": "f5cf0a13",
   "metadata": {},
   "outputs": [],
   "source": [
    "r=(10,)"
   ]
  },
  {
   "cell_type": "code",
   "execution_count": 22,
   "id": "8a19e652",
   "metadata": {},
   "outputs": [
    {
     "data": {
      "text/plain": [
       "tuple"
      ]
     },
     "execution_count": 22,
     "metadata": {},
     "output_type": "execute_result"
    }
   ],
   "source": [
    "type(r)"
   ]
  },
  {
   "cell_type": "code",
   "execution_count": 23,
   "id": "37124287",
   "metadata": {},
   "outputs": [],
   "source": [
    "c=('Chennai',)"
   ]
  },
  {
   "cell_type": "code",
   "execution_count": 24,
   "id": "4622e461",
   "metadata": {},
   "outputs": [
    {
     "data": {
      "text/plain": [
       "tuple"
      ]
     },
     "execution_count": 24,
     "metadata": {},
     "output_type": "execute_result"
    }
   ],
   "source": [
    "type(c)"
   ]
  },
  {
   "cell_type": "code",
   "execution_count": 25,
   "id": "39b5b5fe",
   "metadata": {},
   "outputs": [],
   "source": [
    "nums=(1,2,3,4,5)"
   ]
  },
  {
   "cell_type": "code",
   "execution_count": 26,
   "id": "1209e589",
   "metadata": {},
   "outputs": [
    {
     "name": "stdout",
     "output_type": "stream",
     "text": [
      "['__add__', '__class__', '__contains__', '__delattr__', '__dir__', '__doc__', '__eq__', '__format__', '__ge__', '__getattribute__', '__getitem__', '__getnewargs__', '__gt__', '__hash__', '__init__', '__init_subclass__', '__iter__', '__le__', '__len__', '__lt__', '__mul__', '__ne__', '__new__', '__reduce__', '__reduce_ex__', '__repr__', '__rmul__', '__setattr__', '__sizeof__', '__str__', '__subclasshook__', 'count', 'index']\n"
     ]
    }
   ],
   "source": [
    "print(dir(nums))"
   ]
  },
  {
   "cell_type": "code",
   "execution_count": 27,
   "id": "1139756a",
   "metadata": {},
   "outputs": [
    {
     "data": {
      "text/plain": [
       "4"
      ]
     },
     "execution_count": 27,
     "metadata": {},
     "output_type": "execute_result"
    }
   ],
   "source": [
    "nums.index(5)"
   ]
  },
  {
   "cell_type": "code",
   "execution_count": 28,
   "id": "689a90b2",
   "metadata": {},
   "outputs": [
    {
     "data": {
      "text/plain": [
       "1"
      ]
     },
     "execution_count": 28,
     "metadata": {},
     "output_type": "execute_result"
    }
   ],
   "source": [
    "nums.count(2)"
   ]
  },
  {
   "cell_type": "markdown",
   "id": "c2b93ee4",
   "metadata": {},
   "source": [
    "# LIST Vs TUPLE"
   ]
  },
  {
   "cell_type": "code",
   "execution_count": null,
   "id": "fa129630",
   "metadata": {},
   "outputs": [],
   "source": [
    "LIST                                                                TUPLE\n",
    "1. List is mutable                                                  Immutable\n",
    "2. []                                                               ()\n",
    "3. Takes more memory to store the data                              Takes less memory than LIST\n",
    "4. Take more time to process the data                                VERY less time than list of elements"
   ]
  },
  {
   "cell_type": "code",
   "execution_count": 29,
   "id": "b845d7c4",
   "metadata": {},
   "outputs": [
    {
     "name": "stdout",
     "output_type": "stream",
     "text": [
      "LIST SIZE: 96\n",
      "TUPLE SIZE: 80\n"
     ]
    }
   ],
   "source": [
    "l1=[1,2,3,4,5]\n",
    "t1=(1,2,3,4,5)\n",
    "\n",
    "import sys\n",
    "\n",
    "print(\"LIST SIZE:\", sys.getsizeof(l1))\n",
    "print(\"TUPLE SIZE:\", sys.getsizeof(t1))"
   ]
  },
  {
   "cell_type": "code",
   "execution_count": 30,
   "id": "d3854664",
   "metadata": {},
   "outputs": [
    {
     "name": "stdout",
     "output_type": "stream",
     "text": [
      "LIST TOOK: 72.49699999999848\n",
      "TUPLE TOOK: 6.649899999956688\n"
     ]
    }
   ],
   "source": [
    "import timeit\n",
    "\n",
    "print(\"LIST TOOK:\",timeit.timeit(stmt=\"[1,2,3,4,5,6,7,8,9,10]\", number=1000000) * 1000)\n",
    "print(\"TUPLE TOOK:\",timeit.timeit(stmt=\"(1,2,3,4,5,6,7,8,9,10)\", number=1000000) * 1000)"
   ]
  },
  {
   "cell_type": "code",
   "execution_count": null,
   "id": "dfe422c3",
   "metadata": {},
   "outputs": [],
   "source": []
  }
 ],
 "metadata": {
  "kernelspec": {
   "display_name": "Python 3 (ipykernel)",
   "language": "python",
   "name": "python3"
  },
  "language_info": {
   "codemirror_mode": {
    "name": "ipython",
    "version": 3
   },
   "file_extension": ".py",
   "mimetype": "text/x-python",
   "name": "python",
   "nbconvert_exporter": "python",
   "pygments_lexer": "ipython3",
   "version": "3.8.10"
  }
 },
 "nbformat": 4,
 "nbformat_minor": 5
}
