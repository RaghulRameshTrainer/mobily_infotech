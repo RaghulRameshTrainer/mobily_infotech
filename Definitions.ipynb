{
 "cells": [
  {
   "cell_type": "markdown",
   "id": "11abb9d3",
   "metadata": {},
   "source": [
    "# Definitions"
   ]
  },
  {
   "cell_type": "code",
   "execution_count": 1,
   "id": "d89955b0",
   "metadata": {},
   "outputs": [],
   "source": [
    "def addnums(x,y):\n",
    "    res=x+y\n",
    "    return res"
   ]
  },
  {
   "cell_type": "code",
   "execution_count": 2,
   "id": "42b9909a",
   "metadata": {},
   "outputs": [
    {
     "name": "stdout",
     "output_type": "stream",
     "text": [
      "30\n"
     ]
    }
   ],
   "source": [
    "print(addnums(10,20))"
   ]
  },
  {
   "cell_type": "code",
   "execution_count": 3,
   "id": "9f1ef34c",
   "metadata": {},
   "outputs": [
    {
     "ename": "TypeError",
     "evalue": "addnums() missing 1 required positional argument: 'y'",
     "output_type": "error",
     "traceback": [
      "\u001b[1;31m---------------------------------------------------------------------------\u001b[0m",
      "\u001b[1;31mTypeError\u001b[0m                                 Traceback (most recent call last)",
      "Input \u001b[1;32mIn [3]\u001b[0m, in \u001b[0;36m<cell line: 1>\u001b[1;34m()\u001b[0m\n\u001b[1;32m----> 1\u001b[0m \u001b[43maddnums\u001b[49m\u001b[43m(\u001b[49m\u001b[38;5;241;43m10\u001b[39;49m\u001b[43m)\u001b[49m\n",
      "\u001b[1;31mTypeError\u001b[0m: addnums() missing 1 required positional argument: 'y'"
     ]
    }
   ],
   "source": [
    "addnums(10)"
   ]
  },
  {
   "cell_type": "code",
   "execution_count": 4,
   "id": "8ac78054",
   "metadata": {},
   "outputs": [],
   "source": [
    "def addnums(x,y):\n",
    "    '''addnums function should be called with 2 numbers to get sum of them'''\n",
    "    res=x+y\n",
    "    return res"
   ]
  },
  {
   "cell_type": "code",
   "execution_count": 5,
   "id": "41445e15",
   "metadata": {},
   "outputs": [
    {
     "data": {
      "text/plain": [
       "'addnums function should be called with 2 numbers to get sum of them'"
      ]
     },
     "execution_count": 5,
     "metadata": {},
     "output_type": "execute_result"
    }
   ],
   "source": [
    "addnums.__doc__"
   ]
  },
  {
   "cell_type": "code",
   "execution_count": 6,
   "id": "9691c45d",
   "metadata": {},
   "outputs": [
    {
     "data": {
      "text/plain": [
       "300"
      ]
     },
     "execution_count": 6,
     "metadata": {},
     "output_type": "execute_result"
    }
   ],
   "source": [
    "addnums(100,200)"
   ]
  },
  {
   "cell_type": "code",
   "execution_count": 7,
   "id": "497f3ea8",
   "metadata": {},
   "outputs": [
    {
     "ename": "TypeError",
     "evalue": "addnums() missing 1 required positional argument: 'y'",
     "output_type": "error",
     "traceback": [
      "\u001b[1;31m---------------------------------------------------------------------------\u001b[0m",
      "\u001b[1;31mTypeError\u001b[0m                                 Traceback (most recent call last)",
      "Input \u001b[1;32mIn [7]\u001b[0m, in \u001b[0;36m<cell line: 1>\u001b[1;34m()\u001b[0m\n\u001b[1;32m----> 1\u001b[0m \u001b[43maddnums\u001b[49m\u001b[43m(\u001b[49m\u001b[38;5;241;43m100\u001b[39;49m\u001b[43m)\u001b[49m\n",
      "\u001b[1;31mTypeError\u001b[0m: addnums() missing 1 required positional argument: 'y'"
     ]
    }
   ],
   "source": [
    "addnums(100)"
   ]
  },
  {
   "cell_type": "code",
   "execution_count": 8,
   "id": "27285fc5",
   "metadata": {},
   "outputs": [],
   "source": [
    "def addnums(x,y=0):\n",
    "    '''addnums function should be called with 2 numbers to get sum of them'''\n",
    "    res=x+y\n",
    "    return res"
   ]
  },
  {
   "cell_type": "code",
   "execution_count": 9,
   "id": "b51a0dd8",
   "metadata": {},
   "outputs": [
    {
     "data": {
      "text/plain": [
       "1100"
      ]
     },
     "execution_count": 9,
     "metadata": {},
     "output_type": "execute_result"
    }
   ],
   "source": [
    "addnums(500,600)"
   ]
  },
  {
   "cell_type": "code",
   "execution_count": 10,
   "id": "a1187cce",
   "metadata": {},
   "outputs": [
    {
     "data": {
      "text/plain": [
       "1000"
      ]
     },
     "execution_count": 10,
     "metadata": {},
     "output_type": "execute_result"
    }
   ],
   "source": [
    "addnums(1000)"
   ]
  },
  {
   "cell_type": "code",
   "execution_count": 11,
   "id": "9dcc023b",
   "metadata": {},
   "outputs": [
    {
     "ename": "TypeError",
     "evalue": "addnums() missing 1 required positional argument: 'x'",
     "output_type": "error",
     "traceback": [
      "\u001b[1;31m---------------------------------------------------------------------------\u001b[0m",
      "\u001b[1;31mTypeError\u001b[0m                                 Traceback (most recent call last)",
      "Input \u001b[1;32mIn [11]\u001b[0m, in \u001b[0;36m<cell line: 1>\u001b[1;34m()\u001b[0m\n\u001b[1;32m----> 1\u001b[0m \u001b[43maddnums\u001b[49m\u001b[43m(\u001b[49m\u001b[43m)\u001b[49m\n",
      "\u001b[1;31mTypeError\u001b[0m: addnums() missing 1 required positional argument: 'x'"
     ]
    }
   ],
   "source": [
    "addnums()"
   ]
  },
  {
   "cell_type": "code",
   "execution_count": 12,
   "id": "4793f8d3",
   "metadata": {},
   "outputs": [
    {
     "ename": "TypeError",
     "evalue": "addnums() takes from 1 to 2 positional arguments but 3 were given",
     "output_type": "error",
     "traceback": [
      "\u001b[1;31m---------------------------------------------------------------------------\u001b[0m",
      "\u001b[1;31mTypeError\u001b[0m                                 Traceback (most recent call last)",
      "Input \u001b[1;32mIn [12]\u001b[0m, in \u001b[0;36m<cell line: 1>\u001b[1;34m()\u001b[0m\n\u001b[1;32m----> 1\u001b[0m \u001b[43maddnums\u001b[49m\u001b[43m(\u001b[49m\u001b[38;5;241;43m10\u001b[39;49m\u001b[43m,\u001b[49m\u001b[38;5;241;43m20\u001b[39;49m\u001b[43m,\u001b[49m\u001b[38;5;241;43m30\u001b[39;49m\u001b[43m)\u001b[49m\n",
      "\u001b[1;31mTypeError\u001b[0m: addnums() takes from 1 to 2 positional arguments but 3 were given"
     ]
    }
   ],
   "source": [
    "addnums(10,20,30)"
   ]
  },
  {
   "cell_type": "code",
   "execution_count": 18,
   "id": "6afcc147",
   "metadata": {},
   "outputs": [],
   "source": [
    "def addnums(x,*y):\n",
    "    '''addnums function should be called with 2 numbers to get sum of them'''\n",
    "#     print(f\"x:{x}\")\n",
    "#     print(f\"y:{y}\")\n",
    "        \n",
    "    res=x+sum(y)\n",
    "    return res"
   ]
  },
  {
   "cell_type": "code",
   "execution_count": 19,
   "id": "d76d5c72",
   "metadata": {},
   "outputs": [
    {
     "data": {
      "text/plain": [
       "150"
      ]
     },
     "execution_count": 19,
     "metadata": {},
     "output_type": "execute_result"
    }
   ],
   "source": [
    "addnums(10,20,30,40,50)"
   ]
  },
  {
   "cell_type": "code",
   "execution_count": 20,
   "id": "1d46a5de",
   "metadata": {},
   "outputs": [
    {
     "data": {
      "text/plain": [
       "55"
      ]
     },
     "execution_count": 20,
     "metadata": {},
     "output_type": "execute_result"
    }
   ],
   "source": [
    "addnums(1,2,3,4,5,6,7,8,9,10)"
   ]
  },
  {
   "cell_type": "code",
   "execution_count": 21,
   "id": "91a057cc",
   "metadata": {},
   "outputs": [
    {
     "data": {
      "text/plain": [
       "1"
      ]
     },
     "execution_count": 21,
     "metadata": {},
     "output_type": "execute_result"
    }
   ],
   "source": [
    "addnums(1)"
   ]
  },
  {
   "cell_type": "code",
   "execution_count": 22,
   "id": "0a719ca7",
   "metadata": {},
   "outputs": [
    {
     "data": {
      "text/plain": [
       "3"
      ]
     },
     "execution_count": 22,
     "metadata": {},
     "output_type": "execute_result"
    }
   ],
   "source": [
    "addnums(1,2)"
   ]
  },
  {
   "cell_type": "code",
   "execution_count": 24,
   "id": "267a4117",
   "metadata": {},
   "outputs": [
    {
     "data": {
      "text/plain": [
       "6"
      ]
     },
     "execution_count": 24,
     "metadata": {},
     "output_type": "execute_result"
    }
   ],
   "source": [
    "addnums(1,2,3)"
   ]
  },
  {
   "cell_type": "code",
   "execution_count": 25,
   "id": "6f29f0d6",
   "metadata": {},
   "outputs": [
    {
     "data": {
      "text/plain": [
       "10"
      ]
     },
     "execution_count": 25,
     "metadata": {},
     "output_type": "execute_result"
    }
   ],
   "source": [
    "addnums(1,2,3,4)"
   ]
  },
  {
   "cell_type": "code",
   "execution_count": 26,
   "id": "c75e5c8a",
   "metadata": {},
   "outputs": [
    {
     "ename": "TypeError",
     "evalue": "addnums() missing 1 required positional argument: 'x'",
     "output_type": "error",
     "traceback": [
      "\u001b[1;31m---------------------------------------------------------------------------\u001b[0m",
      "\u001b[1;31mTypeError\u001b[0m                                 Traceback (most recent call last)",
      "Input \u001b[1;32mIn [26]\u001b[0m, in \u001b[0;36m<cell line: 1>\u001b[1;34m()\u001b[0m\n\u001b[1;32m----> 1\u001b[0m \u001b[43maddnums\u001b[49m\u001b[43m(\u001b[49m\u001b[43m)\u001b[49m\n",
      "\u001b[1;31mTypeError\u001b[0m: addnums() missing 1 required positional argument: 'x'"
     ]
    }
   ],
   "source": [
    "addnums()"
   ]
  },
  {
   "cell_type": "code",
   "execution_count": 27,
   "id": "4efb73da",
   "metadata": {},
   "outputs": [],
   "source": [
    "def addnums(*y):\n",
    "    '''addnums function should be called with 2 numbers to get sum of them'''\n",
    "#     print(f\"x:{x}\")\n",
    "#     print(f\"y:{y}\")\n",
    "        \n",
    "    res=sum(y)\n",
    "    return res"
   ]
  },
  {
   "cell_type": "code",
   "execution_count": 28,
   "id": "da033a70",
   "metadata": {},
   "outputs": [
    {
     "data": {
      "text/plain": [
       "0"
      ]
     },
     "execution_count": 28,
     "metadata": {},
     "output_type": "execute_result"
    }
   ],
   "source": [
    "addnums()"
   ]
  },
  {
   "cell_type": "code",
   "execution_count": 30,
   "id": "14b1dfd3",
   "metadata": {},
   "outputs": [
    {
     "data": {
      "text/plain": [
       "1"
      ]
     },
     "execution_count": 30,
     "metadata": {},
     "output_type": "execute_result"
    }
   ],
   "source": [
    "addnums(1)"
   ]
  },
  {
   "cell_type": "code",
   "execution_count": 31,
   "id": "791fd198",
   "metadata": {},
   "outputs": [
    {
     "data": {
      "text/plain": [
       "3"
      ]
     },
     "execution_count": 31,
     "metadata": {},
     "output_type": "execute_result"
    }
   ],
   "source": [
    "addnums(1,2)"
   ]
  },
  {
   "cell_type": "code",
   "execution_count": 32,
   "id": "660e757f",
   "metadata": {},
   "outputs": [
    {
     "data": {
      "text/plain": [
       "60"
      ]
     },
     "execution_count": 32,
     "metadata": {},
     "output_type": "execute_result"
    }
   ],
   "source": [
    "addnums(10,20,30)"
   ]
  },
  {
   "cell_type": "code",
   "execution_count": 37,
   "id": "8a4c7e8c",
   "metadata": {},
   "outputs": [],
   "source": [
    "def addnums(*x,**y):\n",
    "    for k in y.keys():\n",
    "        print(k+'  -  '+y[k])\n",
    "    return sum(x)"
   ]
  },
  {
   "cell_type": "code",
   "execution_count": 38,
   "id": "651d9c16",
   "metadata": {},
   "outputs": [
    {
     "name": "stdout",
     "output_type": "stream",
     "text": [
      "tech  -  Python\n",
      "company  -  Mobily Infotech\n",
      "location  -  Bangalore\n"
     ]
    },
    {
     "data": {
      "text/plain": [
       "150"
      ]
     },
     "execution_count": 38,
     "metadata": {},
     "output_type": "execute_result"
    }
   ],
   "source": [
    "addnums(10,20,30,40,50,tech=\"Python\",company=\"Mobily Infotech\",location=\"Bangalore\")"
   ]
  },
  {
   "cell_type": "markdown",
   "id": "20a20578",
   "metadata": {},
   "source": [
    "# Variable scope"
   ]
  },
  {
   "cell_type": "code",
   "execution_count": 40,
   "id": "2fb474b5",
   "metadata": {},
   "outputs": [
    {
     "name": "stdout",
     "output_type": "stream",
     "text": [
      "Age before the function call : 38\n",
      "Age inside a function is : 100\n",
      "Age after the function call : 38\n"
     ]
    }
   ],
   "source": [
    "age=38    #Global variable\n",
    "\n",
    "def myfunction():\n",
    "    age=100      #Variable variable\n",
    "    print(\"Age inside a function is :\", age)\n",
    "\n",
    "print('Age before the function call :', age)\n",
    "myfunction()\n",
    "print('Age after the function call :', age)"
   ]
  },
  {
   "cell_type": "code",
   "execution_count": 41,
   "id": "df1995fc",
   "metadata": {},
   "outputs": [
    {
     "name": "stdout",
     "output_type": "stream",
     "text": [
      "Age before the function call : 38\n",
      "Age inside a function is : 38\n",
      "Age after the function call : 38\n"
     ]
    }
   ],
   "source": [
    "age=38    #Global variable\n",
    "\n",
    "def myfunction():\n",
    "    #age=100      #Variable variable\n",
    "    print(\"Age inside a function is :\", age)\n",
    "\n",
    "print('Age before the function call :', age)\n",
    "myfunction()\n",
    "print('Age after the function call :', age)"
   ]
  },
  {
   "cell_type": "code",
   "execution_count": 42,
   "id": "e724d2fc",
   "metadata": {},
   "outputs": [
    {
     "name": "stdout",
     "output_type": "stream",
     "text": [
      "Age before the function call : 38\n",
      "Age inside a function is : 100\n",
      "Age after the function call : 100\n"
     ]
    }
   ],
   "source": [
    "age=38    #Global variable\n",
    "\n",
    "def myfunction():\n",
    "    global age\n",
    "    age=100      #Variable variable\n",
    "    print(\"Age inside a function is :\", age)\n",
    "\n",
    "print('Age before the function call :', age)\n",
    "myfunction()\n",
    "print('Age after the function call :', age)"
   ]
  },
  {
   "cell_type": "code",
   "execution_count": null,
   "id": "bc8e730a",
   "metadata": {},
   "outputs": [],
   "source": []
  }
 ],
 "metadata": {
  "kernelspec": {
   "display_name": "Python 3 (ipykernel)",
   "language": "python",
   "name": "python3"
  },
  "language_info": {
   "codemirror_mode": {
    "name": "ipython",
    "version": 3
   },
   "file_extension": ".py",
   "mimetype": "text/x-python",
   "name": "python",
   "nbconvert_exporter": "python",
   "pygments_lexer": "ipython3",
   "version": "3.8.10"
  }
 },
 "nbformat": 4,
 "nbformat_minor": 5
}
