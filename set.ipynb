{
 "cells": [
  {
   "cell_type": "code",
   "execution_count": null,
   "id": "79f61900",
   "metadata": {},
   "outputs": [],
   "source": [
    "set stores only unique values\n",
    "it stores the value in an ascending order by default"
   ]
  },
  {
   "cell_type": "code",
   "execution_count": 1,
   "id": "421922b9",
   "metadata": {},
   "outputs": [
    {
     "data": {
      "text/plain": [
       "[]"
      ]
     },
     "execution_count": 1,
     "metadata": {},
     "output_type": "execute_result"
    }
   ],
   "source": [
    "[]\n",
    "()\n",
    "{} -> key:value [ dictionary]\n",
    "{} -> a,b,c  [ set]"
   ]
  },
  {
   "cell_type": "code",
   "execution_count": 2,
   "id": "71a773e0",
   "metadata": {},
   "outputs": [],
   "source": [
    "s1={}"
   ]
  },
  {
   "cell_type": "code",
   "execution_count": 3,
   "id": "bbb62437",
   "metadata": {},
   "outputs": [
    {
     "data": {
      "text/plain": [
       "dict"
      ]
     },
     "execution_count": 3,
     "metadata": {},
     "output_type": "execute_result"
    }
   ],
   "source": [
    "type(s1)"
   ]
  },
  {
   "cell_type": "code",
   "execution_count": 4,
   "id": "0d510765",
   "metadata": {},
   "outputs": [],
   "source": [
    "s2=set()"
   ]
  },
  {
   "cell_type": "code",
   "execution_count": 5,
   "id": "98d50028",
   "metadata": {},
   "outputs": [
    {
     "data": {
      "text/plain": [
       "set"
      ]
     },
     "execution_count": 5,
     "metadata": {},
     "output_type": "execute_result"
    }
   ],
   "source": [
    "type(s2)"
   ]
  },
  {
   "cell_type": "code",
   "execution_count": 6,
   "id": "6f81e7a2",
   "metadata": {},
   "outputs": [],
   "source": [
    "s3={1,2,3,4,5}"
   ]
  },
  {
   "cell_type": "code",
   "execution_count": 7,
   "id": "f5b17965",
   "metadata": {},
   "outputs": [
    {
     "data": {
      "text/plain": [
       "set"
      ]
     },
     "execution_count": 7,
     "metadata": {},
     "output_type": "execute_result"
    }
   ],
   "source": [
    "type(s3)"
   ]
  },
  {
   "cell_type": "code",
   "execution_count": 8,
   "id": "0b5ba018",
   "metadata": {},
   "outputs": [],
   "source": [
    "nums={5,3,6,3,6,3,5,2,1,2,4,5,5,3,2,1,1,3,3,5,6,4,2,1,3,4,4,5,4,2,1}"
   ]
  },
  {
   "cell_type": "code",
   "execution_count": 9,
   "id": "c804c3b9",
   "metadata": {},
   "outputs": [
    {
     "data": {
      "text/plain": [
       "{1, 2, 3, 4, 5, 6}"
      ]
     },
     "execution_count": 9,
     "metadata": {},
     "output_type": "execute_result"
    }
   ],
   "source": [
    "nums"
   ]
  },
  {
   "cell_type": "code",
   "execution_count": 10,
   "id": "d9f80369",
   "metadata": {},
   "outputs": [],
   "source": [
    "lst=[1,1,3,2,1,4,5,53,1,1,34,5,32,1,2]"
   ]
  },
  {
   "cell_type": "code",
   "execution_count": 11,
   "id": "480ae7c9",
   "metadata": {},
   "outputs": [
    {
     "data": {
      "text/plain": [
       "[32, 1, 2, 3, 4, 5, 34, 53]"
      ]
     },
     "execution_count": 11,
     "metadata": {},
     "output_type": "execute_result"
    }
   ],
   "source": [
    "list(set(lst))"
   ]
  },
  {
   "cell_type": "code",
   "execution_count": 12,
   "id": "8f70dcc4",
   "metadata": {},
   "outputs": [],
   "source": [
    "odd={1,3,5,7,9}\n",
    "even={2,4,6,8,10}\n",
    "prime={1,3,5,7}\n",
    "composite={1,2,3,4,5,7,8}"
   ]
  },
  {
   "cell_type": "code",
   "execution_count": 13,
   "id": "3e1fc581",
   "metadata": {},
   "outputs": [
    {
     "data": {
      "text/plain": [
       "{1, 2, 3, 4, 5, 6, 7, 8, 9, 10}"
      ]
     },
     "execution_count": 13,
     "metadata": {},
     "output_type": "execute_result"
    }
   ],
   "source": [
    "odd.union(even)"
   ]
  },
  {
   "cell_type": "code",
   "execution_count": 14,
   "id": "6c3d16c8",
   "metadata": {},
   "outputs": [
    {
     "data": {
      "text/plain": [
       "{1, 2, 3, 4, 5, 6, 7, 8, 9, 10}"
      ]
     },
     "execution_count": 14,
     "metadata": {},
     "output_type": "execute_result"
    }
   ],
   "source": [
    "even.union(odd)"
   ]
  },
  {
   "cell_type": "code",
   "execution_count": 15,
   "id": "e0087219",
   "metadata": {},
   "outputs": [
    {
     "data": {
      "text/plain": [
       "{1, 3, 5, 7}"
      ]
     },
     "execution_count": 15,
     "metadata": {},
     "output_type": "execute_result"
    }
   ],
   "source": [
    "odd.intersection(composite)"
   ]
  },
  {
   "cell_type": "code",
   "execution_count": 17,
   "id": "0bb976e7",
   "metadata": {},
   "outputs": [
    {
     "data": {
      "text/plain": [
       "{6, 10}"
      ]
     },
     "execution_count": 17,
     "metadata": {},
     "output_type": "execute_result"
    }
   ],
   "source": [
    "even.difference(composite)"
   ]
  },
  {
   "cell_type": "code",
   "execution_count": 18,
   "id": "2d8add03",
   "metadata": {},
   "outputs": [
    {
     "data": {
      "text/plain": [
       "{1, 3, 5, 7}"
      ]
     },
     "execution_count": 18,
     "metadata": {},
     "output_type": "execute_result"
    }
   ],
   "source": [
    "composite.difference(even)"
   ]
  },
  {
   "cell_type": "code",
   "execution_count": 19,
   "id": "782331cb",
   "metadata": {},
   "outputs": [
    {
     "data": {
      "text/plain": [
       "{2, 4, 8}"
      ]
     },
     "execution_count": 19,
     "metadata": {},
     "output_type": "execute_result"
    }
   ],
   "source": [
    "even.intersection(composite)"
   ]
  },
  {
   "cell_type": "code",
   "execution_count": null,
   "id": "10ce0012",
   "metadata": {},
   "outputs": [],
   "source": [
    "even={2,4,6,8,10}\n",
    "composite={1,2,3,4,5,7,8} \n",
    "#which all are the values that are not common b/w even and composite  {1,3,5,7,10}"
   ]
  },
  {
   "cell_type": "code",
   "execution_count": 20,
   "id": "5972b7de",
   "metadata": {},
   "outputs": [
    {
     "data": {
      "text/plain": [
       "{6, 10}"
      ]
     },
     "execution_count": 20,
     "metadata": {},
     "output_type": "execute_result"
    }
   ],
   "source": [
    "even.difference(composite)"
   ]
  },
  {
   "cell_type": "code",
   "execution_count": 21,
   "id": "c098f5ee",
   "metadata": {},
   "outputs": [
    {
     "data": {
      "text/plain": [
       "{1, 3, 5, 7}"
      ]
     },
     "execution_count": 21,
     "metadata": {},
     "output_type": "execute_result"
    }
   ],
   "source": [
    "composite.difference(even)"
   ]
  },
  {
   "cell_type": "code",
   "execution_count": 22,
   "id": "f2df4da1",
   "metadata": {},
   "outputs": [
    {
     "data": {
      "text/plain": [
       "{1, 3, 5, 6, 7, 10}"
      ]
     },
     "execution_count": 22,
     "metadata": {},
     "output_type": "execute_result"
    }
   ],
   "source": [
    "(even.difference(composite)).union(composite.difference(even))"
   ]
  },
  {
   "cell_type": "code",
   "execution_count": 23,
   "id": "9c58c880",
   "metadata": {},
   "outputs": [
    {
     "data": {
      "text/plain": [
       "{1, 3, 5, 6, 7, 10}"
      ]
     },
     "execution_count": 23,
     "metadata": {},
     "output_type": "execute_result"
    }
   ],
   "source": [
    "even.symmetric_difference(composite)"
   ]
  },
  {
   "cell_type": "code",
   "execution_count": 24,
   "id": "7674271d",
   "metadata": {},
   "outputs": [
    {
     "data": {
      "text/plain": [
       "{1, 3, 5, 7, 9}"
      ]
     },
     "execution_count": 24,
     "metadata": {},
     "output_type": "execute_result"
    }
   ],
   "source": [
    "odd"
   ]
  },
  {
   "cell_type": "code",
   "execution_count": 25,
   "id": "9b438535",
   "metadata": {},
   "outputs": [],
   "source": [
    "odd.add(5)"
   ]
  },
  {
   "cell_type": "code",
   "execution_count": 26,
   "id": "fdbbd113",
   "metadata": {},
   "outputs": [
    {
     "data": {
      "text/plain": [
       "{1, 3, 5, 7, 9}"
      ]
     },
     "execution_count": 26,
     "metadata": {},
     "output_type": "execute_result"
    }
   ],
   "source": [
    "odd"
   ]
  },
  {
   "cell_type": "code",
   "execution_count": 27,
   "id": "8a5e9fc8",
   "metadata": {},
   "outputs": [],
   "source": [
    "odd.add(11)"
   ]
  },
  {
   "cell_type": "code",
   "execution_count": 28,
   "id": "536818e7",
   "metadata": {},
   "outputs": [
    {
     "data": {
      "text/plain": [
       "{1, 3, 5, 7, 9, 11}"
      ]
     },
     "execution_count": 28,
     "metadata": {},
     "output_type": "execute_result"
    }
   ],
   "source": [
    "odd"
   ]
  },
  {
   "cell_type": "code",
   "execution_count": 31,
   "id": "1a38c3fc",
   "metadata": {},
   "outputs": [],
   "source": [
    "odd.remove(5)"
   ]
  },
  {
   "cell_type": "code",
   "execution_count": 32,
   "id": "f8799c47",
   "metadata": {},
   "outputs": [
    {
     "data": {
      "text/plain": [
       "{1, 3, 7, 9, 11}"
      ]
     },
     "execution_count": 32,
     "metadata": {},
     "output_type": "execute_result"
    }
   ],
   "source": [
    "odd"
   ]
  },
  {
   "cell_type": "code",
   "execution_count": 33,
   "id": "ddad533e",
   "metadata": {},
   "outputs": [
    {
     "data": {
      "text/plain": [
       "1"
      ]
     },
     "execution_count": 33,
     "metadata": {},
     "output_type": "execute_result"
    }
   ],
   "source": [
    "odd.pop()"
   ]
  },
  {
   "cell_type": "code",
   "execution_count": 34,
   "id": "92f550ed",
   "metadata": {},
   "outputs": [
    {
     "data": {
      "text/plain": [
       "{3, 7, 9, 11}"
      ]
     },
     "execution_count": 34,
     "metadata": {},
     "output_type": "execute_result"
    }
   ],
   "source": [
    "odd"
   ]
  },
  {
   "cell_type": "code",
   "execution_count": 35,
   "id": "3f71daa7",
   "metadata": {},
   "outputs": [
    {
     "data": {
      "text/plain": [
       "3"
      ]
     },
     "execution_count": 35,
     "metadata": {},
     "output_type": "execute_result"
    }
   ],
   "source": [
    "odd.pop()"
   ]
  },
  {
   "cell_type": "code",
   "execution_count": 36,
   "id": "dbf58980",
   "metadata": {},
   "outputs": [
    {
     "data": {
      "text/plain": [
       "{7, 9, 11}"
      ]
     },
     "execution_count": 36,
     "metadata": {},
     "output_type": "execute_result"
    }
   ],
   "source": [
    "odd"
   ]
  },
  {
   "cell_type": "code",
   "execution_count": 37,
   "id": "88a0f11b",
   "metadata": {},
   "outputs": [],
   "source": [
    "odd.remove(11)"
   ]
  },
  {
   "cell_type": "code",
   "execution_count": 38,
   "id": "65283b28",
   "metadata": {},
   "outputs": [
    {
     "data": {
      "text/plain": [
       "{7, 9}"
      ]
     },
     "execution_count": 38,
     "metadata": {},
     "output_type": "execute_result"
    }
   ],
   "source": [
    "odd"
   ]
  },
  {
   "cell_type": "code",
   "execution_count": null,
   "id": "a3f19634",
   "metadata": {},
   "outputs": [],
   "source": [
    "--- List Tuple String Dictionary Set "
   ]
  }
 ],
 "metadata": {
  "kernelspec": {
   "display_name": "Python 3 (ipykernel)",
   "language": "python",
   "name": "python3"
  },
  "language_info": {
   "codemirror_mode": {
    "name": "ipython",
    "version": 3
   },
   "file_extension": ".py",
   "mimetype": "text/x-python",
   "name": "python",
   "nbconvert_exporter": "python",
   "pygments_lexer": "ipython3",
   "version": "3.8.10"
  }
 },
 "nbformat": 4,
 "nbformat_minor": 5
}
